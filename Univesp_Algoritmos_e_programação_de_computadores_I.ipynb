{
  "nbformat": 4,
  "nbformat_minor": 0,
  "metadata": {
    "colab": {
      "name": "Univesp - Algoritmos e programação de computadores I",
      "provenance": [],
      "toc_visible": true
    },
    "kernelspec": {
      "name": "python3",
      "display_name": "Python 3"
    }
  },
  "cells": [
    {
      "cell_type": "markdown",
      "metadata": {
        "id": "ssGErjgaMxaq",
        "colab_type": "text"
      },
      "source": [
        "## **Semana 2**\n"
      ]
    },
    {
      "cell_type": "markdown",
      "metadata": {
        "id": "f_Ze5KWFNBBR",
        "colab_type": "text"
      },
      "source": [
        "**Operadores aritméticos**\n",
        "\n",
        "\n"
      ]
    },
    {
      "cell_type": "code",
      "metadata": {
        "id": "jsetwPjEM4Z0",
        "colab_type": "code",
        "colab": {
          "base_uri": "https://localhost:8080/",
          "height": 35
        },
        "outputId": "b9eefba4-707a-4180-9192-66cc0a6d6427"
      },
      "source": [
        "# soma\n",
        "3+4\n"
      ],
      "execution_count": null,
      "outputs": [
        {
          "output_type": "execute_result",
          "data": {
            "text/plain": [
              "7"
            ]
          },
          "metadata": {
            "tags": []
          },
          "execution_count": 1
        }
      ]
    },
    {
      "cell_type": "code",
      "metadata": {
        "id": "TW4PZL9MNRbi",
        "colab_type": "code",
        "colab": {
          "base_uri": "https://localhost:8080/",
          "height": 35
        },
        "outputId": "558abcc0-9bb2-4f94-cc7f-ab1ab6f17ce4"
      },
      "source": [
        "# subtração\n",
        "10 - 3"
      ],
      "execution_count": null,
      "outputs": [
        {
          "output_type": "execute_result",
          "data": {
            "text/plain": [
              "7"
            ]
          },
          "metadata": {
            "tags": []
          },
          "execution_count": 4
        }
      ]
    },
    {
      "cell_type": "code",
      "metadata": {
        "id": "48k1oAugNKOm",
        "colab_type": "code",
        "colab": {
          "base_uri": "https://localhost:8080/",
          "height": 35
        },
        "outputId": "8565bae3-fde3-48bd-cf2c-0e3d7300fc1b"
      },
      "source": [
        "# divisão\n",
        "8/4"
      ],
      "execution_count": null,
      "outputs": [
        {
          "output_type": "execute_result",
          "data": {
            "text/plain": [
              "2.0"
            ]
          },
          "metadata": {
            "tags": []
          },
          "execution_count": 2
        }
      ]
    },
    {
      "cell_type": "code",
      "metadata": {
        "id": "XDNKANWnNNtj",
        "colab_type": "code",
        "colab": {
          "base_uri": "https://localhost:8080/",
          "height": 35
        },
        "outputId": "a55ebb26-09de-4efe-ab83-9f08f9378f8f"
      },
      "source": [
        "# multiplicação\n",
        "4*6"
      ],
      "execution_count": null,
      "outputs": [
        {
          "output_type": "execute_result",
          "data": {
            "text/plain": [
              "24"
            ]
          },
          "metadata": {
            "tags": []
          },
          "execution_count": 3
        }
      ]
    },
    {
      "cell_type": "code",
      "metadata": {
        "id": "52BK5k5XNu6x",
        "colab_type": "code",
        "colab": {
          "base_uri": "https://localhost:8080/",
          "height": 35
        },
        "outputId": "e611560e-1f91-4bb5-c40d-76b27a7504f0"
      },
      "source": [
        "# parte inteira (desconsidera o resto da divisão)\n",
        "9//4"
      ],
      "execution_count": null,
      "outputs": [
        {
          "output_type": "execute_result",
          "data": {
            "text/plain": [
              "2"
            ]
          },
          "metadata": {
            "tags": []
          },
          "execution_count": 6
        }
      ]
    },
    {
      "cell_type": "code",
      "metadata": {
        "id": "4JWCMsq7N3Qe",
        "colab_type": "code",
        "colab": {
          "base_uri": "https://localhost:8080/",
          "height": 35
        },
        "outputId": "21ba2e31-2da6-4a81-8fbf-1d8299e3d71c"
      },
      "source": [
        "# módulo (resto da divisão)\n",
        "9%5"
      ],
      "execution_count": null,
      "outputs": [
        {
          "output_type": "execute_result",
          "data": {
            "text/plain": [
              "4"
            ]
          },
          "metadata": {
            "tags": []
          },
          "execution_count": 8
        }
      ]
    },
    {
      "cell_type": "code",
      "metadata": {
        "id": "EPMbuJndN9xU",
        "colab_type": "code",
        "colab": {
          "base_uri": "https://localhost:8080/",
          "height": 35
        },
        "outputId": "e1427ec9-e399-4bf7-a97b-de4bdf691cfa"
      },
      "source": [
        "# potenciação\n",
        "2**3"
      ],
      "execution_count": null,
      "outputs": [
        {
          "output_type": "execute_result",
          "data": {
            "text/plain": [
              "8"
            ]
          },
          "metadata": {
            "tags": []
          },
          "execution_count": 9
        }
      ]
    },
    {
      "cell_type": "markdown",
      "metadata": {
        "id": "q2GJw7p-OJgk",
        "colab_type": "text"
      },
      "source": [
        "**Precedência de operadores**\n",
        "\n",
        "\n"
      ]
    },
    {
      "cell_type": "code",
      "metadata": {
        "id": "Wf46OHcyOLjS",
        "colab_type": "code",
        "colab": {
          "base_uri": "https://localhost:8080/",
          "height": 35
        },
        "outputId": "92c6ae03-4d61-46f4-e989-6dced982d6a4"
      },
      "source": [
        "# multiplicação e dividião precedem adição e subtração\n",
        "\n",
        "4+5/2"
      ],
      "execution_count": null,
      "outputs": [
        {
          "output_type": "execute_result",
          "data": {
            "text/plain": [
              "6.5"
            ]
          },
          "metadata": {
            "tags": []
          },
          "execution_count": 14
        }
      ]
    },
    {
      "cell_type": "code",
      "metadata": {
        "id": "44HZq-c-O27K",
        "colab_type": "code",
        "colab": {
          "base_uri": "https://localhost:8080/",
          "height": 35
        },
        "outputId": "6f5aedc1-c2f0-46fe-941f-7ec447ec622d"
      },
      "source": [
        "# parênteses\n",
        "(4+5)/2"
      ],
      "execution_count": null,
      "outputs": [
        {
          "output_type": "execute_result",
          "data": {
            "text/plain": [
              "4.5"
            ]
          },
          "metadata": {
            "tags": []
          },
          "execution_count": 15
        }
      ]
    },
    {
      "cell_type": "markdown",
      "metadata": {
        "id": "0W6vyARNPONc",
        "colab_type": "text"
      },
      "source": [
        "**Tipo de dados**\n"
      ]
    },
    {
      "cell_type": "code",
      "metadata": {
        "id": "XbBVbMnePVIr",
        "colab_type": "code",
        "colab": {
          "base_uri": "https://localhost:8080/",
          "height": 35
        },
        "outputId": "a996b456-a05a-43f8-896c-13cdecac36da"
      },
      "source": [
        "#int\n",
        "4 + 3 \n",
        "\n",
        "# int + int = int\n"
      ],
      "execution_count": null,
      "outputs": [
        {
          "output_type": "execute_result",
          "data": {
            "text/plain": [
              "7"
            ]
          },
          "metadata": {
            "tags": []
          },
          "execution_count": 19
        }
      ]
    },
    {
      "cell_type": "code",
      "metadata": {
        "id": "B4BJdBZ_ProW",
        "colab_type": "code",
        "colab": {
          "base_uri": "https://localhost:8080/",
          "height": 35
        },
        "outputId": "b1bae272-d0bf-4365-8629-78ff562a284f"
      },
      "source": [
        "#float\n",
        "2.4 + 5\n",
        "\n",
        "# int + float = float"
      ],
      "execution_count": null,
      "outputs": [
        {
          "output_type": "execute_result",
          "data": {
            "text/plain": [
              "7.4"
            ]
          },
          "metadata": {
            "tags": []
          },
          "execution_count": 18
        }
      ]
    },
    {
      "cell_type": "markdown",
      "metadata": {
        "id": "c5mIGw5bQBWE",
        "colab_type": "text"
      },
      "source": [
        "**Funções aritméticas**"
      ]
    },
    {
      "cell_type": "code",
      "metadata": {
        "id": "OscDRsWoQGPq",
        "colab_type": "code",
        "colab": {
          "base_uri": "https://localhost:8080/",
          "height": 35
        },
        "outputId": "00c1021e-5c15-4c62-a6f2-123da81e6995"
      },
      "source": [
        "# absoluto\n",
        "abs(-4)\n",
        "abs(+4)"
      ],
      "execution_count": null,
      "outputs": [
        {
          "output_type": "execute_result",
          "data": {
            "text/plain": [
              "4"
            ]
          },
          "metadata": {
            "tags": []
          },
          "execution_count": 20
        }
      ]
    },
    {
      "cell_type": "code",
      "metadata": {
        "id": "0BUt5oqUQP6z",
        "colab_type": "code",
        "colab": {
          "base_uri": "https://localhost:8080/",
          "height": 35
        },
        "outputId": "4eee6fed-77bb-403d-f33d-415a7b5be29d"
      },
      "source": [
        "# mínimo\n",
        "min(8,3,8,3,6,2,7)"
      ],
      "execution_count": null,
      "outputs": [
        {
          "output_type": "execute_result",
          "data": {
            "text/plain": [
              "2"
            ]
          },
          "metadata": {
            "tags": []
          },
          "execution_count": 22
        }
      ]
    },
    {
      "cell_type": "code",
      "metadata": {
        "id": "e0Itd4_cQbOZ",
        "colab_type": "code",
        "colab": {
          "base_uri": "https://localhost:8080/",
          "height": 35
        },
        "outputId": "bdca9892-4b5f-474d-9b1e-e5d97e7e7feb"
      },
      "source": [
        "# máximo\n",
        "max(8,3,8,3,6,2,7)"
      ],
      "execution_count": null,
      "outputs": [
        {
          "output_type": "execute_result",
          "data": {
            "text/plain": [
              "8"
            ]
          },
          "metadata": {
            "tags": []
          },
          "execution_count": 23
        }
      ]
    },
    {
      "cell_type": "markdown",
      "metadata": {
        "id": "xwSoy5tTSM39",
        "colab_type": "text"
      },
      "source": [
        "Exemplo: calcular a média harmônica dos números 3.6, 8.9 e 10\n",
        "\n",
        "![definicao-da-formula-da-media-harmonica-.png](data:image/png;base64,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)"
      ]
    },
    {
      "cell_type": "code",
      "metadata": {
        "id": "J6qgVAS8SjGm",
        "colab_type": "code",
        "colab": {
          "base_uri": "https://localhost:8080/",
          "height": 35
        },
        "outputId": "5913d6ce-4d4d-4c29-fa49-d43930a492cb"
      },
      "source": [
        "3/((1/3.6)+(1/8.9)+(1/10))"
      ],
      "execution_count": null,
      "outputs": [
        {
          "output_type": "execute_result",
          "data": {
            "text/plain": [
              "6.120733571064696"
            ]
          },
          "metadata": {
            "tags": []
          },
          "execution_count": 24
        }
      ]
    },
    {
      "cell_type": "markdown",
      "metadata": {
        "id": "4Qe5-vWgTOfE",
        "colab_type": "text"
      },
      "source": [
        "<font color = blue>Exercício: \n",
        "calcular a média harmônica dos números 3.6, 8.9 e 10, \n",
        "utilizando x = 4 como fator de amortização </font>\n"
      ]
    },
    {
      "cell_type": "code",
      "metadata": {
        "id": "Uenum8puTPYW",
        "colab_type": "code",
        "colab": {
          "base_uri": "https://localhost:8080/",
          "height": 35
        },
        "outputId": "481fc5da-9144-46d8-b936-3ca7e2698e5f"
      },
      "source": [
        "(3/((1/3.6)+(1/8.9)+(1/10))) - 4"
      ],
      "execution_count": null,
      "outputs": [
        {
          "output_type": "execute_result",
          "data": {
            "text/plain": [
              "2.1207335710646964"
            ]
          },
          "metadata": {
            "tags": []
          },
          "execution_count": 25
        }
      ]
    },
    {
      "cell_type": "markdown",
      "metadata": {
        "id": "kzSh9MThXtMt",
        "colab_type": "text"
      },
      "source": [
        "**Expressões lógicas**\n"
      ]
    },
    {
      "cell_type": "code",
      "metadata": {
        "id": "_wV2905wXw98",
        "colab_type": "code",
        "colab": {
          "base_uri": "https://localhost:8080/",
          "height": 35
        },
        "outputId": "024be81e-1ffc-4df3-d176-0f115b690743"
      },
      "source": [
        "# atribuição \n",
        "4 == 6"
      ],
      "execution_count": null,
      "outputs": [
        {
          "output_type": "execute_result",
          "data": {
            "text/plain": [
              "True"
            ]
          },
          "metadata": {
            "tags": []
          },
          "execution_count": 32
        }
      ]
    },
    {
      "cell_type": "code",
      "metadata": {
        "id": "AFWiRzj8YRt5",
        "colab_type": "code",
        "colab": {
          "base_uri": "https://localhost:8080/",
          "height": 35
        },
        "outputId": "64b3fb8d-c6b2-4460-8ea4-98e59d1613dd"
      },
      "source": [
        "# diferença \n",
        "3 + 8 != 15"
      ],
      "execution_count": null,
      "outputs": [
        {
          "output_type": "execute_result",
          "data": {
            "text/plain": [
              "True"
            ]
          },
          "metadata": {
            "tags": []
          },
          "execution_count": 33
        }
      ]
    },
    {
      "cell_type": "code",
      "metadata": {
        "id": "5Y7Pu3L8YVcb",
        "colab_type": "code",
        "colab": {
          "base_uri": "https://localhost:8080/",
          "height": 35
        },
        "outputId": "8efe7860-eb0e-4b36-b4b5-f84d65c07567"
      },
      "source": [
        "# menor que \n",
        "4 < 8 "
      ],
      "execution_count": null,
      "outputs": [
        {
          "output_type": "execute_result",
          "data": {
            "text/plain": [
              "True"
            ]
          },
          "metadata": {
            "tags": []
          },
          "execution_count": 34
        }
      ]
    },
    {
      "cell_type": "code",
      "metadata": {
        "id": "dOtkKpOXYafJ",
        "colab_type": "code",
        "colab": {
          "base_uri": "https://localhost:8080/",
          "height": 35
        },
        "outputId": "9d2f9d4b-09fb-4c40-fb57-4d3e5e4aae2c"
      },
      "source": [
        "# maior que\n",
        "8 > 4"
      ],
      "execution_count": null,
      "outputs": [
        {
          "output_type": "execute_result",
          "data": {
            "text/plain": [
              "True"
            ]
          },
          "metadata": {
            "tags": []
          },
          "execution_count": 35
        }
      ]
    },
    {
      "cell_type": "code",
      "metadata": {
        "id": "FTHLU88NYeiH",
        "colab_type": "code",
        "colab": {
          "base_uri": "https://localhost:8080/",
          "height": 35
        },
        "outputId": "65c3a275-f2ef-4b14-b74b-edaa24929dcf"
      },
      "source": [
        "# menor ou igual \n",
        "4 <= 4\n",
        "3 <= 5"
      ],
      "execution_count": null,
      "outputs": [
        {
          "output_type": "execute_result",
          "data": {
            "text/plain": [
              "True"
            ]
          },
          "metadata": {
            "tags": []
          },
          "execution_count": 37
        }
      ]
    },
    {
      "cell_type": "code",
      "metadata": {
        "id": "eMweVLJNYoQ9",
        "colab_type": "code",
        "colab": {
          "base_uri": "https://localhost:8080/",
          "height": 35
        },
        "outputId": "22e6dd25-27c6-459f-a953-a732ecba80be"
      },
      "source": [
        "# maior ou igual\n",
        "5 >= 5\n",
        "5 >= 3"
      ],
      "execution_count": null,
      "outputs": [
        {
          "output_type": "execute_result",
          "data": {
            "text/plain": [
              "True"
            ]
          },
          "metadata": {
            "tags": []
          },
          "execution_count": 38
        }
      ]
    },
    {
      "cell_type": "markdown",
      "metadata": {
        "id": "MxhzCwn_eDOS",
        "colab_type": "text"
      },
      "source": [
        "**Variável**\n"
      ]
    },
    {
      "cell_type": "code",
      "metadata": {
        "id": "Am5QT79EeFwY",
        "colab_type": "code",
        "colab": {
          "base_uri": "https://localhost:8080/",
          "height": 35
        },
        "outputId": "d40337d2-2d05-4fb4-92f1-772d3b1266d3"
      },
      "source": [
        "# nome atribuído a um objeto\n",
        "x = 3 \n",
        "x"
      ],
      "execution_count": null,
      "outputs": [
        {
          "output_type": "execute_result",
          "data": {
            "text/plain": [
              "3"
            ]
          },
          "metadata": {
            "tags": []
          },
          "execution_count": 39
        }
      ]
    },
    {
      "cell_type": "code",
      "metadata": {
        "id": "ECYTK57aeePu",
        "colab_type": "code",
        "colab": {
          "base_uri": "https://localhost:8080/",
          "height": 35
        },
        "outputId": "daf88d11-540a-4105-ff01-bdbcce8deff6"
      },
      "source": [
        "x = 2 + 3\n",
        "y = x + 2\n",
        "y"
      ],
      "execution_count": null,
      "outputs": [
        {
          "output_type": "execute_result",
          "data": {
            "text/plain": [
              "7"
            ]
          },
          "metadata": {
            "tags": []
          },
          "execution_count": 40
        }
      ]
    },
    {
      "cell_type": "code",
      "metadata": {
        "id": "svpJ0_lUgkWA",
        "colab_type": "code",
        "colab": {}
      },
      "source": [
        "# Exemplo 1\n",
        "altura = 1.82\n",
        "sexo = 'M'\n",
        "idade = 20 "
      ],
      "execution_count": null,
      "outputs": []
    },
    {
      "cell_type": "code",
      "metadata": {
        "id": "98_8Enm3g6Py",
        "colab_type": "code",
        "colab": {
          "base_uri": "https://localhost:8080/",
          "height": 35
        },
        "outputId": "65936882-7c33-49f1-87b0-22d1ed01c628"
      },
      "source": [
        "altura"
      ],
      "execution_count": null,
      "outputs": [
        {
          "output_type": "execute_result",
          "data": {
            "text/plain": [
              "1.82"
            ]
          },
          "metadata": {
            "tags": []
          },
          "execution_count": 5
        }
      ]
    },
    {
      "cell_type": "code",
      "metadata": {
        "id": "7KwF8Ecvg8O-",
        "colab_type": "code",
        "colab": {
          "base_uri": "https://localhost:8080/",
          "height": 35
        },
        "outputId": "85d05622-f97b-4687-d970-b3eb41c4dab6"
      },
      "source": [
        "sexo"
      ],
      "execution_count": null,
      "outputs": [
        {
          "output_type": "execute_result",
          "data": {
            "application/vnd.google.colaboratory.intrinsic+json": {
              "type": "string"
            },
            "text/plain": [
              "'M'"
            ]
          },
          "metadata": {
            "tags": []
          },
          "execution_count": 46
        }
      ]
    },
    {
      "cell_type": "code",
      "metadata": {
        "id": "jHqiN_Z1g83y",
        "colab_type": "code",
        "colab": {
          "base_uri": "https://localhost:8080/",
          "height": 35
        },
        "outputId": "78d20c28-4513-4e67-ad0c-54babcc9c48e"
      },
      "source": [
        "idade"
      ],
      "execution_count": null,
      "outputs": [
        {
          "output_type": "execute_result",
          "data": {
            "text/plain": [
              "20"
            ]
          },
          "metadata": {
            "tags": []
          },
          "execution_count": 47
        }
      ]
    },
    {
      "cell_type": "code",
      "metadata": {
        "id": "QuxUuIaOhJYB",
        "colab_type": "code",
        "colab": {}
      },
      "source": [
        "# Exemplo 2\n",
        "# 23ºC , F = ?, K = ?\n",
        "C = 23\n",
        "K = C + 273\n",
        "F = 1.8 * C + 32"
      ],
      "execution_count": null,
      "outputs": []
    },
    {
      "cell_type": "code",
      "metadata": {
        "id": "wjDzl-PdhoTr",
        "colab_type": "code",
        "colab": {
          "base_uri": "https://localhost:8080/",
          "height": 35
        },
        "outputId": "2cefc455-ed99-4d8b-c43f-0ee696d340d7"
      },
      "source": [
        "K "
      ],
      "execution_count": null,
      "outputs": [
        {
          "output_type": "execute_result",
          "data": {
            "text/plain": [
              "296"
            ]
          },
          "metadata": {
            "tags": []
          },
          "execution_count": 52
        }
      ]
    },
    {
      "cell_type": "code",
      "metadata": {
        "id": "dVrDtv1JhpEi",
        "colab_type": "code",
        "colab": {
          "base_uri": "https://localhost:8080/",
          "height": 35
        },
        "outputId": "bf2df645-7f3a-4d00-c957-dc0e576c95b7"
      },
      "source": [
        "F"
      ],
      "execution_count": null,
      "outputs": [
        {
          "output_type": "execute_result",
          "data": {
            "text/plain": [
              "73.4"
            ]
          },
          "metadata": {
            "tags": []
          },
          "execution_count": 53
        }
      ]
    },
    {
      "cell_type": "markdown",
      "metadata": {
        "id": "zTft9W4Qjcvc",
        "colab_type": "text"
      },
      "source": [
        "**Strings** "
      ]
    },
    {
      "cell_type": "code",
      "metadata": {
        "id": "x4LWETvPjfcC",
        "colab_type": "code",
        "colab": {}
      },
      "source": [
        "s = \"abc\"\n",
        "t = \"def\""
      ],
      "execution_count": null,
      "outputs": []
    },
    {
      "cell_type": "code",
      "metadata": {
        "id": "HCGEWQnjjnLb",
        "colab_type": "code",
        "colab": {
          "base_uri": "https://localhost:8080/",
          "height": 35
        },
        "outputId": "e5731519-3b8d-4780-d2de-53f92d5047e2"
      },
      "source": [
        "# comparando strings \n",
        "s == \"abc\""
      ],
      "execution_count": null,
      "outputs": [
        {
          "output_type": "execute_result",
          "data": {
            "text/plain": [
              "True"
            ]
          },
          "metadata": {
            "tags": []
          },
          "execution_count": 57
        }
      ]
    },
    {
      "cell_type": "code",
      "metadata": {
        "id": "QNXU-neNkBfg",
        "colab_type": "code",
        "colab": {
          "base_uri": "https://localhost:8080/",
          "height": 35
        },
        "outputId": "8b54a7ce-8e07-4c4f-b992-d46f30b02222"
      },
      "source": [
        "s == t"
      ],
      "execution_count": null,
      "outputs": [
        {
          "output_type": "execute_result",
          "data": {
            "text/plain": [
              "False"
            ]
          },
          "metadata": {
            "tags": []
          },
          "execution_count": 60
        }
      ]
    },
    {
      "cell_type": "code",
      "metadata": {
        "id": "cNmJUkkFkNrO",
        "colab_type": "code",
        "colab": {
          "base_uri": "https://localhost:8080/",
          "height": 35
        },
        "outputId": "6b6b303e-ce31-4391-90c6-5692dc0ae350"
      },
      "source": [
        "# comparando ordem alfabética (primeiro caracter)\n",
        "s < t"
      ],
      "execution_count": null,
      "outputs": [
        {
          "output_type": "execute_result",
          "data": {
            "text/plain": [
              "True"
            ]
          },
          "metadata": {
            "tags": []
          },
          "execution_count": 61
        }
      ]
    },
    {
      "cell_type": "code",
      "metadata": {
        "id": "Kj-VxfQrkT69",
        "colab_type": "code",
        "colab": {
          "base_uri": "https://localhost:8080/",
          "height": 35
        },
        "outputId": "3c908887-adf1-4de9-ecfe-79842ed854ea"
      },
      "source": [
        "s > t"
      ],
      "execution_count": null,
      "outputs": [
        {
          "output_type": "execute_result",
          "data": {
            "text/plain": [
              "False"
            ]
          },
          "metadata": {
            "tags": []
          },
          "execution_count": 63
        }
      ]
    },
    {
      "cell_type": "code",
      "metadata": {
        "id": "hqiO4DQPklYi",
        "colab_type": "code",
        "colab": {
          "base_uri": "https://localhost:8080/",
          "height": 35
        },
        "outputId": "697b41c5-35ee-4655-a9a2-dc0f01d2032d"
      },
      "source": [
        "# concatenação de strings\n",
        "s + t"
      ],
      "execution_count": null,
      "outputs": [
        {
          "output_type": "execute_result",
          "data": {
            "application/vnd.google.colaboratory.intrinsic+json": {
              "type": "string"
            },
            "text/plain": [
              "'abcdef'"
            ]
          },
          "metadata": {
            "tags": []
          },
          "execution_count": 64
        }
      ]
    },
    {
      "cell_type": "code",
      "metadata": {
        "id": "7Fr2wpz9kzw2",
        "colab_type": "code",
        "colab": {
          "base_uri": "https://localhost:8080/",
          "height": 35
        },
        "outputId": "5b35abbf-0493-47f7-efd0-c9234cf81515"
      },
      "source": [
        "# multiplicação de strings (não funciona com duas ou mais strings)\n",
        "# exemplo de que não funciona: s * t\n",
        "s*2 + t*2"
      ],
      "execution_count": null,
      "outputs": [
        {
          "output_type": "execute_result",
          "data": {
            "application/vnd.google.colaboratory.intrinsic+json": {
              "type": "string"
            },
            "text/plain": [
              "'abcabcdefdef'"
            ]
          },
          "metadata": {
            "tags": []
          },
          "execution_count": 65
        }
      ]
    },
    {
      "cell_type": "code",
      "metadata": {
        "id": "u0lkCQcllQMT",
        "colab_type": "code",
        "colab": {
          "base_uri": "https://localhost:8080/",
          "height": 35
        },
        "outputId": "94c24bbf-98ab-484b-b8db-db2b92cbcf57"
      },
      "source": [
        "# verificando um caracter em uma string \n",
        "ch = \"b\" # declarando o caracter\n",
        "ch in s \n"
      ],
      "execution_count": null,
      "outputs": [
        {
          "output_type": "execute_result",
          "data": {
            "text/plain": [
              "True"
            ]
          },
          "metadata": {
            "tags": []
          },
          "execution_count": 66
        }
      ]
    },
    {
      "cell_type": "code",
      "metadata": {
        "id": "26yQQwYznn51",
        "colab_type": "code",
        "colab": {
          "base_uri": "https://localhost:8080/",
          "height": 35
        },
        "outputId": "18d77408-71b3-46ed-9024-c06cdc37d0c8"
      },
      "source": [
        "ch in str('bola') # verificando que a letra b está contida na palavra bola"
      ],
      "execution_count": null,
      "outputs": [
        {
          "output_type": "execute_result",
          "data": {
            "text/plain": [
              "True"
            ]
          },
          "metadata": {
            "tags": []
          },
          "execution_count": 67
        }
      ]
    },
    {
      "cell_type": "code",
      "metadata": {
        "id": "5e22rVuJoHQE",
        "colab_type": "code",
        "colab": {
          "base_uri": "https://localhost:8080/",
          "height": 35
        },
        "outputId": "9d4c368d-5b16-41f2-fd73-8d98d71b41db"
      },
      "source": [
        "# retona o tamanho da string\n",
        "len(s)"
      ],
      "execution_count": null,
      "outputs": [
        {
          "output_type": "execute_result",
          "data": {
            "text/plain": [
              "3"
            ]
          },
          "metadata": {
            "tags": []
          },
          "execution_count": 68
        }
      ]
    },
    {
      "cell_type": "code",
      "metadata": {
        "id": "Ha7T_dhVoW8U",
        "colab_type": "code",
        "colab": {
          "base_uri": "https://localhost:8080/",
          "height": 35
        },
        "outputId": "edcce63f-4b91-4da2-85e6-be52d51c2e8f"
      },
      "source": [
        "# operador de indexação (indica a posição do caracter)\n",
        "nome = \"Juliana\"\n",
        "nome [0]  # lembrando que em Python, o índice sempre começa com ZERO (e em R, sempre começa em UM)"
      ],
      "execution_count": null,
      "outputs": [
        {
          "output_type": "execute_result",
          "data": {
            "application/vnd.google.colaboratory.intrinsic+json": {
              "type": "string"
            },
            "text/plain": [
              "'J'"
            ]
          },
          "metadata": {
            "tags": []
          },
          "execution_count": 73
        }
      ]
    },
    {
      "cell_type": "code",
      "metadata": {
        "id": "r_B4TpZaoxHJ",
        "colab_type": "code",
        "colab": {
          "base_uri": "https://localhost:8080/",
          "height": 35
        },
        "outputId": "d88a38d0-aa61-4b5c-ba26-e356bac71989"
      },
      "source": [
        "nome [1]\n"
      ],
      "execution_count": null,
      "outputs": [
        {
          "output_type": "execute_result",
          "data": {
            "application/vnd.google.colaboratory.intrinsic+json": {
              "type": "string"
            },
            "text/plain": [
              "'u'"
            ]
          },
          "metadata": {
            "tags": []
          },
          "execution_count": 72
        }
      ]
    },
    {
      "cell_type": "code",
      "metadata": {
        "id": "8yeRaOBUpAby",
        "colab_type": "code",
        "colab": {
          "base_uri": "https://localhost:8080/",
          "height": 190
        },
        "outputId": "1bbb1a16-ef48-47a0-f154-8d2eff0994e4"
      },
      "source": [
        "nome[len(nome)]  # NÃO FUNCIONA justamente porque o índice começa com ZERO. O tamanho da string \"leng(nome)\" é igual a 7, \n",
        "                 # porém não existe a posição 7 na string, porque ela é indexada de 0 - 1\n"
      ],
      "execution_count": null,
      "outputs": [
        {
          "output_type": "error",
          "ename": "IndexError",
          "evalue": "ignored",
          "traceback": [
            "\u001b[0;31m---------------------------------------------------------------------------\u001b[0m",
            "\u001b[0;31mIndexError\u001b[0m                                Traceback (most recent call last)",
            "\u001b[0;32m<ipython-input-76-19eac79eb4f5>\u001b[0m in \u001b[0;36m<module>\u001b[0;34m()\u001b[0m\n\u001b[0;32m----> 1\u001b[0;31m \u001b[0mnome\u001b[0m\u001b[0;34m[\u001b[0m\u001b[0mlen\u001b[0m\u001b[0;34m(\u001b[0m\u001b[0mnome\u001b[0m\u001b[0;34m)\u001b[0m\u001b[0;34m]\u001b[0m  \u001b[0;31m# não funciona justamente porque o índice começa com ZERO. O tamanho da string \"leng(nome)\" é igual a 7,\u001b[0m\u001b[0;34m\u001b[0m\u001b[0;34m\u001b[0m\u001b[0m\n\u001b[0m\u001b[1;32m      2\u001b[0m                  \u001b[0;31m# porém não existe a posição 7 na string, porque ela é indexada de 0 - 1\u001b[0m\u001b[0;34m\u001b[0m\u001b[0;34m\u001b[0m\u001b[0;34m\u001b[0m\u001b[0m\n",
            "\u001b[0;31mIndexError\u001b[0m: string index out of range"
          ]
        }
      ]
    },
    {
      "cell_type": "code",
      "metadata": {
        "id": "oX8ZBDFBqUiE",
        "colab_type": "code",
        "colab": {
          "base_uri": "https://localhost:8080/",
          "height": 35
        },
        "outputId": "3b123158-457d-43b2-a107-415cef133d64"
      },
      "source": [
        "nome[-2] # existem índices negativos. No nome JULIANA, deve retornar a letra N, que é a segunda letra da direita para a equerda. \n",
        "         # note que quando o índice é negativo, o índice começa em UM, e não em ZERO "
      ],
      "execution_count": null,
      "outputs": [
        {
          "output_type": "execute_result",
          "data": {
            "application/vnd.google.colaboratory.intrinsic+json": {
              "type": "string"
            },
            "text/plain": [
              "'n'"
            ]
          },
          "metadata": {
            "tags": []
          },
          "execution_count": 78
        }
      ]
    },
    {
      "cell_type": "code",
      "metadata": {
        "id": "L9OwY3Yrr4zS",
        "colab_type": "code",
        "colab": {
          "base_uri": "https://localhost:8080/",
          "height": 35
        },
        "outputId": "b11850d0-24ae-41d6-9303-ef5c6412ac6e"
      },
      "source": [
        "# substrings\n",
        "nome[1:3] # 1 é a posição inicial, e 3 é a posição final, porém este não é inclusivo. "
      ],
      "execution_count": null,
      "outputs": [
        {
          "output_type": "execute_result",
          "data": {
            "application/vnd.google.colaboratory.intrinsic+json": {
              "type": "string"
            },
            "text/plain": [
              "'ul'"
            ]
          },
          "metadata": {
            "tags": []
          },
          "execution_count": 80
        }
      ]
    },
    {
      "cell_type": "code",
      "metadata": {
        "id": "bFtBWDyasQrt",
        "colab_type": "code",
        "colab": {
          "base_uri": "https://localhost:8080/",
          "height": 35
        },
        "outputId": "6dfc78bd-2579-4a4f-ada2-997c8f738a84"
      },
      "source": [
        "nome[-5:-2] "
      ],
      "execution_count": null,
      "outputs": [
        {
          "output_type": "execute_result",
          "data": {
            "application/vnd.google.colaboratory.intrinsic+json": {
              "type": "string"
            },
            "text/plain": [
              "'lia'"
            ]
          },
          "metadata": {
            "tags": []
          },
          "execution_count": 82
        }
      ]
    },
    {
      "cell_type": "code",
      "metadata": {
        "id": "vHf3xuqasjAj",
        "colab_type": "code",
        "colab": {
          "base_uri": "https://localhost:8080/",
          "height": 35
        },
        "outputId": "72644754-a767-47bc-ad51-4ce45202f581"
      },
      "source": [
        "nome[:3] # quando não preenchemos a posição incial, é subentendido que é ZERO"
      ],
      "execution_count": null,
      "outputs": [
        {
          "output_type": "execute_result",
          "data": {
            "application/vnd.google.colaboratory.intrinsic+json": {
              "type": "string"
            },
            "text/plain": [
              "'Jul'"
            ]
          },
          "metadata": {
            "tags": []
          },
          "execution_count": 83
        }
      ]
    },
    {
      "cell_type": "code",
      "metadata": {
        "id": "7HygPEzrstuB",
        "colab_type": "code",
        "colab": {
          "base_uri": "https://localhost:8080/",
          "height": 35
        },
        "outputId": "e3cf8bff-04ed-4892-d1b1-8863c688884f"
      },
      "source": [
        "nome[4:] # quando não preenchemos a posição final, é subentendido que vai até o fim da string"
      ],
      "execution_count": null,
      "outputs": [
        {
          "output_type": "execute_result",
          "data": {
            "application/vnd.google.colaboratory.intrinsic+json": {
              "type": "string"
            },
            "text/plain": [
              "'ana'"
            ]
          },
          "metadata": {
            "tags": []
          },
          "execution_count": 84
        }
      ]
    },
    {
      "cell_type": "code",
      "metadata": {
        "id": "MNnsUQrTtHSY",
        "colab_type": "code",
        "colab": {}
      },
      "source": [
        "# métodos para manipulação de strings "
      ],
      "execution_count": null,
      "outputs": []
    },
    {
      "cell_type": "code",
      "metadata": {
        "id": "NDPHisiNtN82",
        "colab_type": "code",
        "colab": {
          "base_uri": "https://localhost:8080/",
          "height": 35
        },
        "outputId": "92bbc7e1-e84a-4325-b09e-6ce98bab522b"
      },
      "source": [
        "nome.find(\"ana\") # identifica a posição da substring \"ana\" dentro da string \"Juliana\""
      ],
      "execution_count": null,
      "outputs": [
        {
          "output_type": "execute_result",
          "data": {
            "text/plain": [
              "4"
            ]
          },
          "metadata": {
            "tags": []
          },
          "execution_count": 88
        }
      ]
    },
    {
      "cell_type": "code",
      "metadata": {
        "id": "xOpOnmJQuGGj",
        "colab_type": "code",
        "colab": {
          "base_uri": "https://localhost:8080/",
          "height": 35
        },
        "outputId": "a9aed004-459e-4fbe-d54a-c21cd39906ee"
      },
      "source": [
        "nome.count(\"a\") # retorna quantas vezes aparece a letra \"a\" na string \"Juliana\""
      ],
      "execution_count": null,
      "outputs": [
        {
          "output_type": "execute_result",
          "data": {
            "text/plain": [
              "2"
            ]
          },
          "metadata": {
            "tags": []
          },
          "execution_count": 89
        }
      ]
    },
    {
      "cell_type": "code",
      "metadata": {
        "id": "ks2FhPwfuSj3",
        "colab_type": "code",
        "colab": {
          "base_uri": "https://localhost:8080/",
          "height": 35
        },
        "outputId": "bd91cc70-b378-45d2-a8a3-afb665afa7a4"
      },
      "source": [
        "nome.replace(\"a\", \"X\")"
      ],
      "execution_count": null,
      "outputs": [
        {
          "output_type": "execute_result",
          "data": {
            "application/vnd.google.colaboratory.intrinsic+json": {
              "type": "string"
            },
            "text/plain": [
              "'JuliXnX'"
            ]
          },
          "metadata": {
            "tags": []
          },
          "execution_count": 90
        }
      ]
    },
    {
      "cell_type": "code",
      "metadata": {
        "id": "l6hrpof7uaUD",
        "colab_type": "code",
        "colab": {
          "base_uri": "https://localhost:8080/",
          "height": 35
        },
        "outputId": "4a55a2cd-4d11-4b0a-c18f-fdc98a3837d8"
      },
      "source": [
        "nome.capitalize() # retorna primeiro caracter em maiúsculo"
      ],
      "execution_count": null,
      "outputs": [
        {
          "output_type": "execute_result",
          "data": {
            "application/vnd.google.colaboratory.intrinsic+json": {
              "type": "string"
            },
            "text/plain": [
              "'Juliana'"
            ]
          },
          "metadata": {
            "tags": []
          },
          "execution_count": 93
        }
      ]
    },
    {
      "cell_type": "code",
      "metadata": {
        "id": "y92FiuaEumxf",
        "colab_type": "code",
        "colab": {
          "base_uri": "https://localhost:8080/",
          "height": 35
        },
        "outputId": "fbb7870e-2dc2-4562-fce3-a4ad6a2a7635"
      },
      "source": [
        "nome.upper() # retorna todos os caracteres maiúsculos"
      ],
      "execution_count": null,
      "outputs": [
        {
          "output_type": "execute_result",
          "data": {
            "application/vnd.google.colaboratory.intrinsic+json": {
              "type": "string"
            },
            "text/plain": [
              "'JULIANA'"
            ]
          },
          "metadata": {
            "tags": []
          },
          "execution_count": 92
        }
      ]
    },
    {
      "cell_type": "code",
      "metadata": {
        "id": "YDZWhWomuwLl",
        "colab_type": "code",
        "colab": {
          "base_uri": "https://localhost:8080/",
          "height": 35
        },
        "outputId": "b9c84abf-ccf3-47df-c4cc-a8aacfbaf655"
      },
      "source": [
        "nome.lower() # retorna todos os caracteres minúsculos"
      ],
      "execution_count": null,
      "outputs": [
        {
          "output_type": "execute_result",
          "data": {
            "application/vnd.google.colaboratory.intrinsic+json": {
              "type": "string"
            },
            "text/plain": [
              "'juliana'"
            ]
          },
          "metadata": {
            "tags": []
          },
          "execution_count": 95
        }
      ]
    },
    {
      "cell_type": "code",
      "metadata": {
        "id": "BMNMTI8Iu5_t",
        "colab_type": "code",
        "colab": {
          "base_uri": "https://localhost:8080/",
          "height": 35
        },
        "outputId": "f9dfd6d2-bde5-480b-b6fe-f860eca54963"
      },
      "source": [
        "nome2 = \"Juliana Yuri  \"\n",
        "nome2.strip() #retorna a string sem espaços brancos em excesso ao final"
      ],
      "execution_count": null,
      "outputs": [
        {
          "output_type": "execute_result",
          "data": {
            "application/vnd.google.colaboratory.intrinsic+json": {
              "type": "string"
            },
            "text/plain": [
              "'Juliana        Yuri'"
            ]
          },
          "metadata": {
            "tags": []
          },
          "execution_count": 105
        }
      ]
    },
    {
      "cell_type": "markdown",
      "metadata": {
        "id": "Gz3h9kQJMuf7",
        "colab_type": "text"
      },
      "source": [
        "## **Semana 3**"
      ]
    },
    {
      "cell_type": "markdown",
      "metadata": {
        "id": "XxulB2x5NDyf",
        "colab_type": "text"
      },
      "source": [
        "**Listas**"
      ]
    },
    {
      "cell_type": "code",
      "metadata": {
        "id": "a9f2lM-MPQF2",
        "colab_type": "code",
        "colab": {
          "base_uri": "https://localhost:8080/",
          "height": 34
        },
        "outputId": "5f7336b6-a560-4ccb-98e5-583207d1832f"
      },
      "source": [
        "# usa-se colchetes\n",
        "pets = ['cão','gato', 'peixe']\n",
        "pets\n"
      ],
      "execution_count": 18,
      "outputs": [
        {
          "output_type": "execute_result",
          "data": {
            "text/plain": [
              "['cão', 'gato', 'peixe']"
            ]
          },
          "metadata": {
            "tags": []
          },
          "execution_count": 18
        }
      ]
    },
    {
      "cell_type": "code",
      "metadata": {
        "id": "dsBov4htP9xi",
        "colab_type": "code",
        "colab": {
          "base_uri": "https://localhost:8080/",
          "height": 34
        },
        "outputId": "f80070de-da08-48e9-b372-c88a460f5322"
      },
      "source": [
        "linha = [1, 'ab',[],[1,2]] # lista contendo número, string, lista vazia e uma outra lista com dois objetos\n",
        "linha"
      ],
      "execution_count": 19,
      "outputs": [
        {
          "output_type": "execute_result",
          "data": {
            "text/plain": [
              "[1, 'ab', [], [1, 2]]"
            ]
          },
          "metadata": {
            "tags": []
          },
          "execution_count": 19
        }
      ]
    },
    {
      "cell_type": "markdown",
      "metadata": {
        "id": "5kIopIbwQjZF",
        "colab_type": "text"
      },
      "source": [
        "Operadores em listas"
      ]
    },
    {
      "cell_type": "code",
      "metadata": {
        "id": "1Vmzr9n_QGrk",
        "colab_type": "code",
        "colab": {
          "base_uri": "https://localhost:8080/",
          "height": 35
        },
        "outputId": "bb58be82-4feb-499c-aad3-2549dad1ab0a"
      },
      "source": [
        "\n",
        "# índices, semelhantes ao de strings\n",
        "pets[0]\n",
        "\n"
      ],
      "execution_count": 20,
      "outputs": [
        {
          "output_type": "execute_result",
          "data": {
            "application/vnd.google.colaboratory.intrinsic+json": {
              "type": "string"
            },
            "text/plain": [
              "'cão'"
            ]
          },
          "metadata": {
            "tags": []
          },
          "execution_count": 20
        }
      ]
    },
    {
      "cell_type": "code",
      "metadata": {
        "id": "8lsSlFzhQrHh",
        "colab_type": "code",
        "colab": {
          "base_uri": "https://localhost:8080/",
          "height": 34
        },
        "outputId": "24dab1c1-9baf-4a7f-ecf9-b094becd5612"
      },
      "source": [
        "linha[-1]"
      ],
      "execution_count": 21,
      "outputs": [
        {
          "output_type": "execute_result",
          "data": {
            "text/plain": [
              "[1, 2]"
            ]
          },
          "metadata": {
            "tags": []
          },
          "execution_count": 21
        }
      ]
    },
    {
      "cell_type": "code",
      "metadata": {
        "id": "HExxDTGCRErV",
        "colab_type": "code",
        "colab": {
          "base_uri": "https://localhost:8080/",
          "height": 34
        },
        "outputId": "4fd7ce06-63d4-464a-8fd0-355894eccc02"
      },
      "source": [
        "#tamanho da lista\n",
        "len(linha)\n"
      ],
      "execution_count": 22,
      "outputs": [
        {
          "output_type": "execute_result",
          "data": {
            "text/plain": [
              "4"
            ]
          },
          "metadata": {
            "tags": []
          },
          "execution_count": 22
        }
      ]
    },
    {
      "cell_type": "code",
      "metadata": {
        "id": "FUiYfT-lRJ_2",
        "colab_type": "code",
        "colab": {
          "base_uri": "https://localhost:8080/",
          "height": 130
        },
        "outputId": "d296ff48-79ec-4815-c7a4-a07bee241769"
      },
      "source": [
        "#outros operadores que podem ser usados: \n",
        "in\n",
        "not in\n",
        "+\n",
        "*\n",
        "min()\n",
        "max()\n",
        "sum()"
      ],
      "execution_count": 23,
      "outputs": [
        {
          "output_type": "error",
          "ename": "SyntaxError",
          "evalue": "ignored",
          "traceback": [
            "\u001b[0;36m  File \u001b[0;32m\"<ipython-input-23-9ead38ec49e9>\"\u001b[0;36m, line \u001b[0;32m2\u001b[0m\n\u001b[0;31m    in\u001b[0m\n\u001b[0m     ^\u001b[0m\n\u001b[0;31mSyntaxError\u001b[0m\u001b[0;31m:\u001b[0m invalid syntax\n"
          ]
        }
      ]
    },
    {
      "cell_type": "markdown",
      "metadata": {
        "id": "5z7iRvkVR8nH",
        "colab_type": "text"
      },
      "source": [
        "Listas mutáveis"
      ]
    },
    {
      "cell_type": "code",
      "metadata": {
        "id": "XubTAOr6RurH",
        "colab_type": "code",
        "colab": {
          "base_uri": "https://localhost:8080/",
          "height": 34
        },
        "outputId": "47548dee-6bee-4c7d-b927-9a15044d94b1"
      },
      "source": [
        "#alterar a posição 1 da lista pets, que antes era gato passa a ser galinha.\n",
        "pets[1] = 'galinha' \n",
        "pets"
      ],
      "execution_count": 24,
      "outputs": [
        {
          "output_type": "execute_result",
          "data": {
            "text/plain": [
              "['cão', 'galinha', 'peixe']"
            ]
          },
          "metadata": {
            "tags": []
          },
          "execution_count": 24
        }
      ]
    },
    {
      "cell_type": "markdown",
      "metadata": {
        "id": "gWzOWebXT9Su",
        "colab_type": "text"
      },
      "source": [
        "**Tuplas**"
      ]
    },
    {
      "cell_type": "markdown",
      "metadata": {
        "id": "5twP7pamUETc",
        "colab_type": "text"
      },
      "source": [
        "Listas que não são alteráveis\n"
      ]
    },
    {
      "cell_type": "code",
      "metadata": {
        "id": "V2TbGBEpUBCf",
        "colab_type": "code",
        "colab": {}
      },
      "source": [
        "#usa-se parênteses\n",
        "dias = ('seg', 'ter', 'qua')\n",
        "dias\n"
      ],
      "execution_count": null,
      "outputs": []
    },
    {
      "cell_type": "markdown",
      "metadata": {
        "id": "AWT58s5QU0fB",
        "colab_type": "text"
      },
      "source": [
        "**Métodos**"
      ]
    },
    {
      "cell_type": "code",
      "metadata": {
        "id": "Ul2IIp5sU4BI",
        "colab_type": "code",
        "colab": {}
      },
      "source": [
        "# append = insere um objeto ao final da lista\n",
        "pets.append('coelho')\n",
        "pets"
      ],
      "execution_count": null,
      "outputs": []
    },
    {
      "cell_type": "code",
      "metadata": {
        "id": "6f2sflGVVRm8",
        "colab_type": "code",
        "colab": {}
      },
      "source": [
        "# os outros métodos que podem ser usados são: \n",
        "#count() - conta elementos\n",
        "#index() - retorna o elemento de acordo com uma determinada posição\n",
        "#insert() - insere um novo elemento em uma determinada posição \n",
        "    # insert é diferene de append\n",
        "#pop() - retorna o último elemento da lista \n",
        "#reverse() - retorna a lista de trás pra frente \n",
        "#sort() - faz a ordenação numérica/alfabética "
      ],
      "execution_count": null,
      "outputs": []
    },
    {
      "cell_type": "markdown",
      "metadata": {
        "id": "dE9H2xZ_ZO-2",
        "colab_type": "text"
      },
      "source": [
        "**Tipo de dados** <br> \n",
        "Importante lembrar que variáveis em Python não possuem um tipo. Elas simplesmente apontam temporariamente para um objeto na memória. \n"
      ]
    },
    {
      "cell_type": "code",
      "metadata": {
        "id": "355Bz_yvce-o",
        "colab_type": "code",
        "colab": {}
      },
      "source": [
        "# descobrindo o tipo de um objeto\n",
        "type(pets)\n",
        "type(linha)"
      ],
      "execution_count": null,
      "outputs": []
    },
    {
      "cell_type": "code",
      "metadata": {
        "id": "eRMHr4iWcxyC",
        "colab_type": "code",
        "colab": {}
      },
      "source": [
        "type(3)"
      ],
      "execution_count": null,
      "outputs": []
    },
    {
      "cell_type": "code",
      "metadata": {
        "id": "4bywU0WxdIrP",
        "colab_type": "code",
        "colab": {}
      },
      "source": [
        "type(3.0)\n",
        "#com floats ocorrem aproximações"
      ],
      "execution_count": null,
      "outputs": []
    },
    {
      "cell_type": "code",
      "metadata": {
        "id": "v_EiPZPhdLxU",
        "colab_type": "code",
        "colab": {}
      },
      "source": [
        "type('correr')"
      ],
      "execution_count": null,
      "outputs": []
    },
    {
      "cell_type": "markdown",
      "metadata": {
        "id": "EpipLkqseQLk",
        "colab_type": "text"
      },
      "source": [
        "Criando objetos"
      ]
    },
    {
      "cell_type": "code",
      "metadata": {
        "id": "XhcDcvmaeSUg",
        "colab_type": "code",
        "colab": {}
      },
      "source": [
        "# contrutor int() é usada para instanciar um objeto int explicitamente\n",
        "x = int(3)\n"
      ],
      "execution_count": null,
      "outputs": []
    },
    {
      "cell_type": "code",
      "metadata": {
        "id": "LuIOipBIeqb2",
        "colab_type": "code",
        "colab": {}
      },
      "source": [
        "#valores padrão para cada tipo de dado (ou seja, quando não é inserido nenhum objeto)\n",
        "y = int()\n",
        "y"
      ],
      "execution_count": null,
      "outputs": []
    },
    {
      "cell_type": "code",
      "metadata": {
        "id": "UyETASFbe8Dk",
        "colab_type": "code",
        "colab": {}
      },
      "source": [
        "z= str()\n",
        "z"
      ],
      "execution_count": null,
      "outputs": []
    },
    {
      "cell_type": "markdown",
      "metadata": {
        "id": "aGRHnkTdfCfs",
        "colab_type": "text"
      },
      "source": [
        "Conversão implícita: <br> \n",
        "Se em uma expressão há operandos de diferentes tipos, Python irá converter cada operandopara o tipo que contém os outros. "
      ]
    },
    {
      "cell_type": "code",
      "metadata": {
        "id": "WmjiXDQBgG8h",
        "colab_type": "code",
        "colab": {}
      },
      "source": [
        "booleano = bool(3) # tudo que for diferente de zero, é igual a true, que é igual a 1\n",
        "impli = booleano + 5 \n",
        "impli\n"
      ],
      "execution_count": null,
      "outputs": []
    },
    {
      "cell_type": "code",
      "metadata": {
        "id": "6CYNjWGrhFzb",
        "colab_type": "code",
        "colab": {}
      },
      "source": [
        "int(3.4) #transformando float em inteiro"
      ],
      "execution_count": null,
      "outputs": []
    },
    {
      "cell_type": "code",
      "metadata": {
        "id": "RrFC4UZNhLKy",
        "colab_type": "code",
        "colab": {}
      },
      "source": [
        "float (4) #transformando inteiro em float"
      ],
      "execution_count": null,
      "outputs": []
    },
    {
      "cell_type": "code",
      "metadata": {
        "id": "tTh3QwPIhP-Q",
        "colab_type": "code",
        "colab": {}
      },
      "source": [
        "float('5.6') # transformando string em float"
      ],
      "execution_count": null,
      "outputs": []
    },
    {
      "cell_type": "code",
      "metadata": {
        "id": "cuUGYrjBhY2C",
        "colab_type": "code",
        "colab": {}
      },
      "source": [
        "str(2.54) #transformando float em string"
      ],
      "execution_count": null,
      "outputs": []
    },
    {
      "cell_type": "code",
      "metadata": {
        "id": "NGgkUc7Rhj4l",
        "colab_type": "code",
        "colab": {}
      },
      "source": [
        "int('1,4') # não é possível transformar string em inteiro "
      ],
      "execution_count": null,
      "outputs": []
    },
    {
      "cell_type": "code",
      "metadata": {
        "id": "bFRIHWqOh1p-",
        "colab_type": "code",
        "colab": {}
      },
      "source": [
        "bool('casa') # transformando qualque tipo de dado em booleano; tudo que for diferente de zero é igual a 1. "
      ],
      "execution_count": null,
      "outputs": []
    },
    {
      "cell_type": "markdown",
      "metadata": {
        "id": "L04VKEhhicBs",
        "colab_type": "text"
      },
      "source": [
        "**Biblioteca padrão**"
      ]
    },
    {
      "cell_type": "markdown",
      "metadata": {
        "id": "HZaiUOs8oAvi",
        "colab_type": "text"
      },
      "source": [
        "Modulo math\n"
      ]
    },
    {
      "cell_type": "code",
      "metadata": {
        "id": "gCXdax36oDiT",
        "colab_type": "code",
        "colab": {}
      },
      "source": [
        "import math"
      ],
      "execution_count": null,
      "outputs": []
    },
    {
      "cell_type": "code",
      "metadata": {
        "id": "MLkSXj3CoJAB",
        "colab_type": "code",
        "colab": {}
      },
      "source": [
        "math.sqrt(9) # raíz quadrada de 9"
      ],
      "execution_count": null,
      "outputs": []
    },
    {
      "cell_type": "code",
      "metadata": {
        "id": "BKvXCG0ToNsT",
        "colab_type": "code",
        "colab": {}
      },
      "source": [
        "math.log(8,2) # logarítmo de 8 na base 2"
      ],
      "execution_count": null,
      "outputs": []
    },
    {
      "cell_type": "code",
      "metadata": {
        "id": "_i5L0N-1oaVf",
        "colab_type": "code",
        "colab": {}
      },
      "source": [
        "math.ceil(5.6) # arredondar pra cima"
      ],
      "execution_count": null,
      "outputs": []
    },
    {
      "cell_type": "code",
      "metadata": {
        "id": "aoS4KS_fo_Sk",
        "colab_type": "code",
        "colab": {}
      },
      "source": [
        "math.floor(5.6) # arredondar pra baixo"
      ],
      "execution_count": null,
      "outputs": []
    },
    {
      "cell_type": "code",
      "metadata": {
        "id": "mVvIX9yWpFYh",
        "colab_type": "code",
        "colab": {}
      },
      "source": [
        "math.pi # retorna valor de pi"
      ],
      "execution_count": null,
      "outputs": []
    },
    {
      "cell_type": "code",
      "metadata": {
        "id": "LdhRY3S5pLTh",
        "colab_type": "code",
        "colab": {}
      },
      "source": [
        "math.e # retorna valor de e (constante matemática que é base dos logarítimos naturais)\n"
      ],
      "execution_count": null,
      "outputs": []
    },
    {
      "cell_type": "markdown",
      "metadata": {
        "id": "QyhWk2yfpwIC",
        "colab_type": "text"
      },
      "source": [
        "Módulo fractions"
      ]
    },
    {
      "cell_type": "code",
      "metadata": {
        "id": "hJVsHs5epzLZ",
        "colab_type": "code",
        "colab": {}
      },
      "source": [
        "import fractions"
      ],
      "execution_count": null,
      "outputs": []
    },
    {
      "cell_type": "code",
      "metadata": {
        "id": "UTUZfP0TqQyc",
        "colab_type": "code",
        "colab": {}
      },
      "source": [
        "a = fractions.Fraction (1,2) #representa a fração 1/2\n",
        "b = fractions.Fraction (1,3) #representa a fração 1/3\n",
        "a+b # resulta 5/6"
      ],
      "execution_count": null,
      "outputs": []
    },
    {
      "cell_type": "code",
      "metadata": {
        "id": "dAXd1nYPrKuU",
        "colab_type": "code",
        "colab": {}
      },
      "source": [
        "# uma particularidade do tipo Fraction é que ele permite representar números muito maiores quando comparado com o tipo float\n",
        "# exemplo de float: \n",
        "\n",
        "0.5 ** 1075 #retorna um valor arredondado\n"
      ],
      "execution_count": null,
      "outputs": []
    },
    {
      "cell_type": "code",
      "metadata": {
        "id": "3a9f5TvDrfH8",
        "colab_type": "code",
        "colab": {}
      },
      "source": [
        "# exemplo de fraction\n",
        "fractions.Fraction(1,2) ** 1075"
      ],
      "execution_count": null,
      "outputs": []
    },
    {
      "cell_type": "code",
      "metadata": {
        "id": "xAi7Mpw5z53n",
        "colab_type": "code",
        "colab": {}
      },
      "source": [
        "pergunta = 10/3\n",
        "type(pergunta)"
      ],
      "execution_count": null,
      "outputs": []
    },
    {
      "cell_type": "markdown",
      "metadata": {
        "id": "MgJ3WVwz5Fy6",
        "colab_type": "text"
      },
      "source": [
        "## **Semana 4** "
      ]
    },
    {
      "cell_type": "code",
      "metadata": {
        "id": "K74u1gbOEkUG",
        "colab_type": "code",
        "colab": {
          "base_uri": "https://localhost:8080/",
          "height": 51
        },
        "outputId": "2e23345f-a918-45a3-9527-32e3110e9455"
      },
      "source": [
        "# calculando temperatyra em ºF\n",
        "c = input(\"Digite a temperatura em Celcius:\")\n",
        "c_temp = eval(c) #porque se \"c\" será em string, precisa transformar para valor numérico\n",
        "f = 1.8 * c_temp + 32\n",
        "print(f, \"graus Fahrenheit\")"
      ],
      "execution_count": 25,
      "outputs": [
        {
          "output_type": "stream",
          "text": [
            "Digite a temperatura em Celcius:40\n",
            "104.0 graus Fahrenheit\n"
          ],
          "name": "stdout"
        }
      ]
    },
    {
      "cell_type": "code",
      "metadata": {
        "id": "8hJLgBvdzc0K",
        "colab_type": "code",
        "colab": {}
      },
      "source": [
        "def f(x):\n",
        "    res = x ** 2 + 1\n",
        "    return res # o resultado está sendo retornado para fora da função\n",
        "    "
      ],
      "execution_count": 26,
      "outputs": []
    },
    {
      "cell_type": "code",
      "metadata": {
        "id": "erhyloAXzm_7",
        "colab_type": "code",
        "colab": {}
      },
      "source": [
        "# função que calcula o preço de um produto atualizado pela taxa de juros\n",
        "\n",
        "def juros(preco, juros):\n",
        "    res = preco * (1 + (juros/100))\n",
        "    return res\n"
      ],
      "execution_count": 27,
      "outputs": []
    },
    {
      "cell_type": "code",
      "metadata": {
        "id": "2t0uSA52zwip",
        "colab_type": "code",
        "colab": {}
      },
      "source": [
        "# documentação : docstring\n",
        "def f(x):\n",
        "    'Extamente uma linha abaixo da definicição é onde colocamos a explicação sobre a função para aparecer quando invocar help(f)'\n",
        "    res = x ** 2 + 1\n",
        "    return res"
      ],
      "execution_count": null,
      "outputs": []
    },
    {
      "cell_type": "markdown",
      "metadata": {
        "id": "Yws8BIz0ETla",
        "colab_type": "text"
      },
      "source": [
        "## **Semana 5**"
      ]
    },
    {
      "cell_type": "code",
      "metadata": {
        "id": "tctwesu85SQX",
        "colab_type": "code",
        "colab": {
          "base_uri": "https://localhost:8080/",
          "height": 68
        },
        "outputId": "4dc128cf-a01a-419d-9e86-aa0518ac31f9"
      },
      "source": [
        "altura = input(\"Qual é a sua altura?\")\n",
        "altura = eval(altura) #para transformar string em numeral\n",
        "sexo = input(\"Digite H para homens e M para mulheres\")\n",
        "if sexo == \"H\":\n",
        "  peso = (72.7 * altura) - 58\n",
        "else:\n",
        "  peso = (66.1 * altura) - 44.7\n",
        "print(\"O peso ideal é:\", peso)\n"
      ],
      "execution_count": 13,
      "outputs": [
        {
          "output_type": "stream",
          "text": [
            "Qual é a sua altura?1.83\n",
            "Digite H para homens e M para mulheresH\n",
            "O peso ideal é: 75.041\n"
          ],
          "name": "stdout"
        }
      ]
    },
    {
      "cell_type": "code",
      "metadata": {
        "id": "9kq5WWrSdIDu",
        "colab_type": "code",
        "colab": {
          "base_uri": "https://localhost:8080/",
          "height": 68
        },
        "outputId": "7848482b-d7ab-4f5b-8011-f83395fa4b9f"
      },
      "source": [
        "# exercício do final do vídeo \n",
        "nota1 = input(\"Nota 1:\")\n",
        "nota2 = input(\"Nota 2:\")\n",
        "nota1 = eval(nota1)\n",
        "nota2 = eval(nota2)\n",
        "media = (0.4 * nota1) + (0.6 * nota2)\n",
        "if media >= 5: \n",
        "  print(\"APROVADO\")\n",
        "else:\n",
        "  print(\"REPROVADO\")\n"
      ],
      "execution_count": 3,
      "outputs": [
        {
          "output_type": "stream",
          "text": [
            "Nota 1:7\n",
            "Nota 2:5\n",
            "APROVADO\n"
          ],
          "name": "stdout"
        }
      ]
    },
    {
      "cell_type": "code",
      "metadata": {
        "id": "ec65AOYKem-j",
        "colab_type": "code",
        "colab": {
          "base_uri": "https://localhost:8080/",
          "height": 102
        },
        "outputId": "7513832b-f888-4908-b440-c6a1cfff551e"
      },
      "source": [
        "# exercício do vídeo: seleção de 3 ou mais vias \n",
        "a = eval(input(\"Lado A:\"))\n",
        "b = eval(input(\"Lado B:\"))\n",
        "c = eval(input(\"Lado C:\"))\n",
        "\n",
        "\n",
        "maior_lado = max(a, b, c) #maneira mais fácil \n",
        "if maior_lado < a + b + c - maior_lado: \n",
        "  print(\"É um triângulo! \")\n",
        "  if a == b and b == c and a == c:\n",
        "    print(\"Triângulo equilátero\")\n",
        "  elif a != b and b != c and a != c:\n",
        "    print(\"Triângulo escaleno\")\n",
        "  else:\n",
        "    print(\"Triângulo isosceles\")\n",
        "\n",
        "else:\n",
        "  print(\"Os lados não formam um triângulo\")\n",
        "\n",
        "\n",
        "\n",
        "\n",
        "\n"
      ],
      "execution_count": 17,
      "outputs": [
        {
          "output_type": "stream",
          "text": [
            "Lado A:3\n",
            "Lado B:3\n",
            "Lado C:3\n",
            "É um triângulo! \n",
            "triângulo equilátero\n"
          ],
          "name": "stdout"
        }
      ]
    },
    {
      "cell_type": "code",
      "metadata": {
        "id": "gNRUQY_5nqxH",
        "colab_type": "code",
        "colab": {}
      },
      "source": [
        "\n",
        "''' \n",
        "caso a linguaguem não tenha a opção de max(a,b,c), então é possível descrever da seguinte maneira:\n",
        "\n",
        "maior_lado = 0 \n",
        " if a > maior_lado:\n",
        "   maior_lado = a # atualiza o valor de maior_lado que iniciou como 0 \n",
        " if b > maior_lado:\n",
        "   maior_lado = b # se b > a, atualiza valor de maior_lado \n",
        " if c > maior_lado:\n",
        "   maior_lado = c # se c > b, atualiza valor de maior_lado'''"
      ],
      "execution_count": null,
      "outputs": []
    },
    {
      "cell_type": "code",
      "metadata": {
        "id": "6ZtfdVkPp0BO",
        "colab_type": "code",
        "colab": {}
      },
      "source": [
        "# exercício de correção de ordem das condições\n"
      ],
      "execution_count": null,
      "outputs": []
    }
  ]
}